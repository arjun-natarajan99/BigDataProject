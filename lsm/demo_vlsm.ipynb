{
 "cells": [
  {
   "cell_type": "code",
   "execution_count": null,
   "metadata": {},
   "outputs": [],
   "source": [
    "import os\n",
    "import json\n",
    "import sys\n",
    "import random\n",
    "sys.path.insert(0, '.')\n",
    "import tensorflow as tf\n",
    "import numpy as np\n",
    "from models import grid_nets, im_nets, model_vlsm\n",
    "from ops import conv_rnns\n",
    "from mvnet import MVNet\n",
    "from utils import Bunch, get_session_config"
   ]
  },
  {
   "cell_type": "code",
   "execution_count": null,
   "metadata": {},
   "outputs": [],
   "source": [
    "# Get pretrained models\n",
    "!sh get_models.sh"
   ]
  },
  {
   "cell_type": "code",
   "execution_count": null,
   "metadata": {},
   "outputs": [],
   "source": [
    "# Get sample data\n",
    "!sh download_sample.sh\n",
    "SAMPLE_DIR = os.path.join('data', 'shapenet_sample')"
   ]
  },
  {
   "cell_type": "code",
   "execution_count": null,
   "metadata": {},
   "outputs": [],
   "source": [
    "im_dir = os.path.join(SAMPLE_DIR, 'renders')\n",
    "log_dir = os.path.join('models_lsm_v1/vlsm-release/train')\n",
    "with open(os.path.join(log_dir, 'args.json'), 'r') as f:\n",
    "    args = json.load(f)\n",
    "args = Bunch(args)"
   ]
  },
  {
   "cell_type": "code",
   "execution_count": null,
   "metadata": {},
   "outputs": [],
   "source": [
    "# Setup TF graph and initialize VLSM model\n",
    "tf.reset_default_graph()\n",
    "\n",
    "# Change the ims_per_model to run on different number of views\n",
    "bs, ims_per_model = 1, 4\n",
    "\n",
    "ckpt = 'mvnet-100000'\n",
    "net = MVNet(vmin=-0.5, vmax=0.5, vox_bs=bs,\n",
    "          im_bs=ims_per_model, grid_size=args.nvox,\n",
    "          im_h=args.im_h, im_w=args.im_w,\n",
    "          norm=args.norm, mode=\"TEST\")\n",
    "\n",
    "net = model_vlsm(net, im_nets[args.im_net], grid_nets[args.grid_net],\n",
    "                     conv_rnns[args.rnn])\n",
    "vars_restore = tf.get_collection(tf.GraphKeys.GLOBAL_VARIABLES, scope='MVNet')\n",
    "sess = tf.InteractiveSession(config=get_session_config())\n",
    "saver = tf.train.Saver(var_list=vars_restore)\n",
    "saver.restore(sess, os.path.join(log_dir, ckpt))"
   ]
  },
  {
   "cell_type": "code",
   "execution_count": null,
   "metadata": {},
   "outputs": [],
   "source": [
    "from shapenet import ShapeNet\n",
    "# Read data\n",
    "dset = ShapeNet(im_dir=im_dir, split_file=os.path.join(SAMPLE_DIR, 'splits_sample.json'), rng_seed=1)\n",
    "test_mids = dset.get_smids('test')"
   ]
  },
  {
   "cell_type": "code",
   "execution_count": null,
   "metadata": {},
   "outputs": [],
   "source": [
    "# Run the last three cells to run on different inputs\n",
    "rand_sid, rand_mid = random.choice(test_mids) # Select model to test\n",
    "rand_views = np.random.choice(dset.num_renders, size=(net.im_batch, ), replace=False) # Select views of model to test\n",
    "\n",
    "# Load images and cameras\n",
    "ims = dset.load_func['im'](rand_sid, rand_mid, rand_views)\n",
    "ims = np.expand_dims(ims, 0)\n",
    "R = dset.load_func['R'](rand_sid, rand_mid, rand_views)\n",
    "R = np.expand_dims(R, 0)\n",
    "K = dset.load_func['K'](rand_sid, rand_mid, rand_views)\n",
    "K = np.expand_dims(K, 0)"
   ]
  },
  {
   "cell_type": "code",
   "execution_count": null,
   "metadata": {},
   "outputs": [],
   "source": [
    "# Run VLSM\n",
    "feed_dict = {net.K: K, net.Rcam: R, net.ims: ims}\n",
    "pred_voxels = sess.run(net.prob_vox, feed_dict=feed_dict)"
   ]
  },
  {
   "cell_type": "code",
   "execution_count": null,
   "metadata": {},
   "outputs": [],
   "source": [
    "from vis_utils import image_grid, voxels2pts, plot_points, voxel_grid\n",
    "from IPython.display import display\n",
    "from IPython.core.display import HTML\n",
    "\n",
    "# Visualize views\n",
    "import matplotlib.pyplot as plt\n",
    "%matplotlib inline\n",
    "plt.figure(figsize=(16, 10))\n",
    "plt.imshow(image_grid(ims))\n",
    "plt.title('Views: {:s} / {:s}'.format(dset.splits[rand_sid]['name'], rand_mid))\n",
    "plt.axis('off')\n",
    "plt.show()\n",
    "\n",
    "# Visualize predictions - displays voxel predictions after {1, 2, 3, ..., ims_per_model} views\n",
    "# Feel free to play around with the 3D models!\n",
    "pts, clr = voxel_grid(pred_voxels, thresh=0.4, cmap=\"plasma\")\n",
    "display(plot_points(pts, colors=clr, size=0.7, title=\"Voxel Predictions\"))\n",
    "\n",
    "# Center outputs\n",
    "HTML(\"\"\"\n",
    "<style>\n",
    ".output {\n",
    "    align-items: center;\n",
    "}\n",
    "</style>\n",
    "\"\"\")"
   ]
  }
 ],
 "metadata": {
  "kernelspec": {
   "display_name": "Python 2",
   "language": "python",
   "name": "python2"
  },
  "language_info": {
   "codemirror_mode": {
    "name": "ipython",
    "version": 2
   },
   "file_extension": ".py",
   "mimetype": "text/x-python",
   "name": "python",
   "nbconvert_exporter": "python",
   "pygments_lexer": "ipython2",
   "version": "2.7.12"
  }
 },
 "nbformat": 4,
 "nbformat_minor": 2
}
